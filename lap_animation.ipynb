{
 "cells": [
  {
   "cell_type": "code",
   "execution_count": null,
   "metadata": {},
   "outputs": [],
   "source": [
    "import fastf1\n",
    "from matplotlib import pyplot as plt\n",
    "import fastf1\n",
    "import fastf1.plotting as f1_plt\n",
    "import pandas as pd\n",
    "import utils as ut"
   ]
  },
  {
   "cell_type": "code",
   "execution_count": null,
   "metadata": {},
   "outputs": [],
   "source": [
    "# gettting the data\n",
    "session = ut.get_session()"
   ]
  },
  {
   "cell_type": "code",
   "execution_count": null,
   "metadata": {},
   "outputs": [],
   "source": [
    "q1, q2, q3 = ut.get_qualifying(session)\n",
    "fast_mag = q3.pick_driver('MAG')\n",
    "fast_ver = q3.pick_driver('VER')"
   ]
  },
  {
   "cell_type": "code",
   "execution_count": null,
   "metadata": {},
   "outputs": [],
   "source": [
    "best_lap_mag = fast_mag.pick_lap(25).get_car_data()\n",
    "best_lap_tel_mag = fast_mag.pick_lap(25).get_telemetry()\n",
    "\n",
    "best_lap_ver = fast_ver.pick_lap(22).get_car_data()\n",
    "best_lap_tel_ver = fast_ver.pick_lap(22).get_telemetry()"
   ]
  },
  {
   "cell_type": "code",
   "execution_count": null,
   "metadata": {},
   "outputs": [],
   "source": [
    "x_mag = best_lap_tel_mag[\"X\"]\n",
    "y_mag = best_lap_tel_mag[\"Y\"]\n",
    "x_ver = best_lap_tel_ver[\"X\"]\n",
    "y_ver = best_lap_tel_ver[\"Y\"]"
   ]
  },
  {
   "cell_type": "code",
   "execution_count": null,
   "metadata": {},
   "outputs": [],
   "source": [
    "best_lap_tel_mag[\"DistanceToDriverAhead\"] = 1\n",
    "best_lap_tel_mag "
   ]
  },
  {
   "cell_type": "code",
   "execution_count": null,
   "metadata": {},
   "outputs": [],
   "source": [
    "best_lap_tel_ver"
   ]
  },
  {
   "cell_type": "code",
   "execution_count": null,
   "metadata": {},
   "outputs": [],
   "source": [
    "best_lap_tel_ver.where(best_lap_tel_ver[\"Source\"] == \"pos\").dropna()"
   ]
  },
  {
   "cell_type": "code",
   "execution_count": null,
   "metadata": {},
   "outputs": [],
   "source": [
    "ani_mag = best_lap_tel_mag.where((best_lap_tel_mag[\"Source\"] == \"pos\") | (best_lap_tel_mag[\"Source\"] == \"interpolation\")).dropna()\n",
    "ani_ver = best_lap_tel_ver.where((best_lap_tel_ver[\"Source\"] == \"pos\") | (best_lap_tel_ver[\"Source\"] == \"interpolation\")).dropna()\n",
    "\n",
    "ani_speed_mag = [speed for speed in ani_mag[\"Speed\"]]\n",
    "ani_speed_ver = [speed for speed in ani_ver[\"Speed\"]]\n",
    "\n",
    "ani_x_mag = ani_mag[\"X\"]\n",
    "ani_x_ver = ani_ver[\"X\"]\n",
    "\n",
    "ani_y_mag = ani_mag[\"Y\"]\n",
    "ani_y_ver = ani_ver[\"Y\"]"
   ]
  },
  {
   "cell_type": "code",
   "execution_count": null,
   "metadata": {},
   "outputs": [],
   "source": [
    "import matplotlib.pyplot as plt\n",
    "import matplotlib.animation as animation\n",
    "\n",
    "\n",
    "def update_plot(i, scat_mag, scat_ver, line_mag, line_ver):\n",
    "    \n",
    "    line_mag.set_data(range(i), ani_speed_mag[:i])\n",
    "    line_ver.set_data(range(i), ani_speed_ver[:i])\n",
    "\n",
    "\n",
    "    index = ani_mag.index[i]\n",
    "    plot_x_mag = ani_x_mag[index]\n",
    "    plot_y_mag = ani_y_mag[index]\n",
    "    scat_mag.set_offsets((plot_y_mag, -plot_x_mag))\n",
    "\n",
    "\n",
    "\n",
    "    index = ani_ver.index[i]\n",
    "    plot_x_ver = ani_x_ver[index]\n",
    "    plot_y_ver = ani_y_ver[index]\n",
    "    scat_ver.set_offsets((plot_y_ver, -plot_x_ver))\n",
    "    \n",
    "    return scat_mag, scat_ver, line_mag, line_ver\n",
    "\n",
    "numframes = len(ani_mag)\n",
    "\n",
    "index = ani_mag.index[0]\n",
    "\n",
    "plot_x_mag = ani_x_mag[index]\n",
    "plot_y_mag = ani_y_mag[index]\n",
    "\n",
    "\n",
    "index = ani_ver.index[0]\n",
    "\n",
    "plot_x_ver = ani_x_ver[index]\n",
    "plot_y_ver = ani_y_ver[index]\n",
    "\n",
    "data = range(numframes)\n",
    "\n",
    "line_index = ani_mag.index[numframes-1]\n",
    "line_x = ani_x_mag[index]\n",
    "line_y = ani_y_mag[index]\n",
    "\n",
    "fig, ax = plt.subplots(2,1, figsize=(16,9), gridspec_kw={'height_ratios': [2, 1]})\n",
    "\n",
    "ax[0].plot(y_mag, -x_mag, label='MAG', c=\"black\", linewidth=12, alpha=0.5, zorder = 0)\n",
    "ax[0].plot([line_y, line_y- 350], [-line_x - 500, -line_x + 500], c = \"black\", linewidth=3)\n",
    "\n",
    "speed_line_mag = ax[1].plot(range(0), ani_speed_mag[:0], c=\"black\")\n",
    "speed_line_ver = ax[1].plot(range(0), ani_speed_ver[:0], c=\"blue\")\n",
    "\n",
    "\n",
    "scat_mag = ax[0].scatter(plot_y_mag, -plot_x_mag, c=\"black\", s=50)\n",
    "scat_ver = ax[0].scatter(plot_y_ver, -plot_x_ver, c=\"blue\", s=50)\n",
    "\n",
    "\n",
    "ax[0].legend([scat_mag, scat_ver], [\"Magnussen\", \"Verstappen\"])\n",
    "ax[0].set_xlim([-6000, 5500])\n",
    "ax[0].set_ylim([-2500, 5500])\n",
    "ax[0].xaxis.set_visible(False)\n",
    "ax[0].yaxis.set_visible(False)\n",
    "\n",
    "ax[1].set_xlim([0, numframes])\n",
    "ax[1].set_ylim([0, max(ani_speed_mag)+ 10])\n",
    "ax[1].xaxis.set_visible(False)\n",
    "\n",
    "\n",
    "\n",
    "ani = animation.FuncAnimation(fig, update_plot, frames=range(numframes),\n",
    "                                fargs=[scat_mag, scat_ver, speed_line_mag[0], speed_line_ver[0]], blit = False, interval=500, repeat=True)\n",
    "plt.show()\n",
    "# To save the animation using Pillow as a gif\n",
    "writer = animation.PillowWriter(fps=30,\n",
    "                                metadata=dict(artist='Sebastian'),\n",
    "                                bitrate=1800)\n",
    "ani.save('./figures/lap_animation.gif', writer=writer)\n",
    "\n",
    "# to save the animation using FFMpegWritter as a mp4\n",
    "writervideo = animation.FFMpegWriter(fps=30) # brew install ffmpeg (if not working)\n",
    "ani.save('./figures/lap_animation.mp4', writer=writervideo)\n",
    "\n",
    "\n"
   ]
  }
 ],
 "metadata": {
  "kernelspec": {
   "display_name": "venv",
   "language": "python",
   "name": "python3"
  },
  "language_info": {
   "codemirror_mode": {
    "name": "ipython",
    "version": 3
   },
   "file_extension": ".py",
   "mimetype": "text/x-python",
   "name": "python",
   "nbconvert_exporter": "python",
   "pygments_lexer": "ipython3",
   "version": "3.11.3"
  },
  "orig_nbformat": 4
 },
 "nbformat": 4,
 "nbformat_minor": 2
}
