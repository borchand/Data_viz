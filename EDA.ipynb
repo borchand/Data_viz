{
 "cells": [
  {
   "cell_type": "code",
   "execution_count": null,
   "metadata": {},
   "outputs": [],
   "source": [
    "import fastf1\n",
    "from matplotlib import pyplot as plt\n",
    "import fastf1\n",
    "import fastf1.plotting as f1_plt\n",
    "import pandas as pd"
   ]
  },
  {
   "attachments": {},
   "cell_type": "markdown",
   "metadata": {},
   "source": [
    "### session"
   ]
  },
  {
   "cell_type": "code",
   "execution_count": null,
   "metadata": {},
   "outputs": [],
   "source": [
    "session = fastf1.get_session(2022, 21, \"Q\")\n",
    "session.load(telemetry=True, laps=True, weather=True)"
   ]
  },
  {
   "cell_type": "code",
   "execution_count": null,
   "metadata": {},
   "outputs": [],
   "source": [
    "session = fastf1.get_session(2022, 21, 'Q')\n",
    "session.load(laps=True, telemetry=True, weather=True)\n",
    "laps = session.laps\n",
    "\n",
    "q1, q2, q3 = laps.split_qualifying_sessions()\n",
    "wheater = q3.get_weather_data()\n",
    "\n",
    "fast_mag = q3.pick_driver('MAG')\n",
    "mag_car_data = fast_mag.get_car_data()\n",
    "t_mag = mag_car_data['SessionTime']\n",
    "vCar_mag = mag_car_data['Speed']\n",
    "\n",
    "fast_ver = q3.pick_driver('VER')\n",
    "ver_car_data = fast_ver.get_car_data()\n",
    "t_ver = ver_car_data['SessionTime']\n",
    "vCar_ver = ver_car_data['Speed']\n",
    "mag_car_data"
   ]
  },
  {
   "cell_type": "code",
   "execution_count": null,
   "metadata": {},
   "outputs": [],
   "source": [
    "t_mag = mag_car_data['Date']\n",
    "t_ver = ver_car_data['Date']\n",
    "\n",
    "\n",
    "# The rest is just plotting\n",
    "fig, ax = plt.subplots()\n",
    "ax.plot(t_mag, vCar_mag, label='Mag')\n",
    "ax.plot(t_ver, vCar_ver, label='Ver')\n",
    "# ax.plot(wheater['Time'], wheater['WindDirection'], label='Wheater')\n",
    "ax.set_ylabel('Speed [Km/h]')\n",
    "ax.set_title('MAG is')\n",
    "ax.legend()\n",
    "plt.show()"
   ]
  },
  {
   "cell_type": "code",
   "execution_count": null,
   "metadata": {},
   "outputs": [],
   "source": [
    "session = fastf1.get_session(2022, 21, 'Q')\n",
    "session.load(laps=True, telemetry=True, weather=True)\n",
    "laps = session.laps\n",
    "\n",
    "q1, q2, q3 = laps.split_qualifying_sessions()\n",
    "wheater = q3.get_weather_data()\n",
    "\n",
    "fast_mag = q3.pick_driver('MAG')\n",
    "mag_car_data = fast_mag.get_car_data()\n",
    "t_mag = mag_car_data['SessionTime']\n",
    "vCar_mag = mag_car_data['Speed']\n",
    "\n",
    "fast_ver = q3.pick_driver('VER')\n",
    "ver_car_data = fast_ver.get_car_data()\n",
    "t_ver = ver_car_data['SessionTime']\n",
    "vCar_ver = ver_car_data['Speed']"
   ]
  },
  {
   "attachments": {},
   "cell_type": "markdown",
   "metadata": {},
   "source": [
    "### Best lap and showing track"
   ]
  },
  {
   "cell_type": "code",
   "execution_count": null,
   "metadata": {},
   "outputs": [],
   "source": [
    "s1_mag = fast_mag.pick_fastest()[\"Sector1Time\"] \n",
    "s1_ver = fast_ver.pick_fastest()[\"Sector1Time\"] \n",
    " \n",
    "s2_mag = fast_mag.pick_fastest()[\"Sector2Time\"] \n",
    "s2_ver = fast_ver.pick_fastest()[\"Sector2Time\"] \n",
    "\n",
    "s3_mag = fast_mag.pick_fastest()[\"Sector3Time\"] \n",
    "s3_ver = fast_ver.pick_fastest()[\"Sector3Time\"] \n",
    "\n",
    "s1 = fast_mag.pick_fastest()[\"Sector1Time\"] < fast_ver.pick_fastest()[\"Sector1Time\"] \n",
    "s2 = fast_mag.pick_fastest()[\"Sector2Time\"] < fast_ver.pick_fastest()[\"Sector2Time\"] \n",
    "s3 = fast_mag.pick_fastest()[\"Sector3Time\"] < fast_ver.pick_fastest()[\"Sector3Time\"] \n",
    "print(s1_mag, s1_ver)\n",
    "print(s2_mag, s2_ver)\n",
    "print(s3_mag, s3_ver)\n",
    "\n",
    "print(s1,s2,s3)"
   ]
  },
  {
   "cell_type": "code",
   "execution_count": null,
   "metadata": {},
   "outputs": [],
   "source": [
    "best_lap_mag = fast_mag.pick_lap(25).get_car_data()\n",
    "best_lap_tel_mag = fast_mag.pick_lap(25).get_telemetry()\n",
    "\n",
    "best_lap_ver = fast_ver.pick_lap(22).get_car_data()\n",
    "best_lap_tel_ver = fast_ver.pick_lap(22).get_telemetry()\n",
    "\n",
    "x_mag = best_lap_tel_mag[\"X\"]\n",
    "y_mag = best_lap_tel_mag[\"Y\"]\n",
    "x_ver = best_lap_tel_ver[\"X\"]\n",
    "y_ver = best_lap_tel_ver[\"Y\"]\n",
    "\n",
    "img = plt.imread(\"Brazil_Circuit.png\")\n",
    "fig, ax = plt.subplots()\n",
    "ax.imshow(img, extent=[-6250, 6850, -2400, 5150])\n",
    "ax.set_facecolor(\"white\")\n",
    "ax.xaxis.set_visible(False)\n",
    "ax.yaxis.set_visible(False)\n",
    "\n",
    "ax.plot(y_mag, -x_mag, label='MAG', c=\"white\", linewidth=1)\n",
    "plt.show()"
   ]
  },
  {
   "attachments": {},
   "cell_type": "markdown",
   "metadata": {},
   "source": [
    "### Difference in time"
   ]
  },
  {
   "cell_type": "code",
   "execution_count": null,
   "metadata": {},
   "outputs": [],
   "source": [
    "best_lap_tel_mag[\"Distance\"]"
   ]
  },
  {
   "cell_type": "code",
   "execution_count": null,
   "metadata": {},
   "outputs": [],
   "source": [
    "idx = best_lap_tel_ver.index\n",
    "best_lap_tel_ver[\"Time\"]\n",
    "best_lap_tel_mag[\"X\"]\n",
    "best_lap_tel_mag[\"Y\"]\n"
   ]
  },
  {
   "cell_type": "code",
   "execution_count": null,
   "metadata": {},
   "outputs": [],
   "source": [
    "fig, ax = plt.subplots()\n",
    "for idx in best_lap_tel_mag.index:\n",
    "    ver = best_lap_tel_ver[\"Time\"][idx]\n",
    "    mag = best_lap_tel_mag[\"Time\"][idx]\n",
    "    \n",
    "    ahead = ver > mag\n",
    "    ax.scatter(x_mag[idx], y_mag[idx], c='grey' if ahead else 'blue')\n",
    "    print(ver, mag, ahead)  \n",
    "plt.show()  "
   ]
  },
  {
   "attachments": {},
   "cell_type": "markdown",
   "metadata": {},
   "source": [
    "### Get differet sectors and mini sectors"
   ]
  },
  {
   "cell_type": "code",
   "execution_count": null,
   "metadata": {},
   "outputs": [],
   "source": [
    "def IsTurn(x,y,x_last_turn,y_last_turn, turn_difference=1300):\n",
    "    if x + turn_difference < x_last_turn:\n",
    "        return True        \n",
    "    elif x - turn_difference > x_last_turn:\n",
    "        return True        \n",
    "    elif y + turn_difference < y_last_turn:\n",
    "        return True        \n",
    "    elif y - turn_difference > y_last_turn:\n",
    "        return True        \n",
    "    else:\n",
    "        return False"
   ]
  },
  {
   "cell_type": "code",
   "execution_count": null,
   "metadata": {},
   "outputs": [],
   "source": [
    "def find_minisectors(lap_tel, turn_difference=1300):\n",
    "    x_last_turn, y_last_turn = 0,0\n",
    "    turn_count = 0\n",
    "    turn_idx = []\n",
    "    for idx, xy in enumerate(zip(lap_tel[\"X\"], lap_tel[\"Y\"]), start=2):\n",
    "        x, y = xy\n",
    "        if IsTurn(x, y, x_last_turn, y_last_turn, turn_difference):\n",
    "            x_last_turn = x\n",
    "            y_last_turn = y\n",
    "            turn_count += 1\n",
    "            turn_idx.append(idx)\n",
    "    return turn_idx, turn_count"
   ]
  },
  {
   "cell_type": "code",
   "execution_count": null,
   "metadata": {},
   "outputs": [],
   "source": [
    "idx, turn_count = find_minisectors(best_lap_tel_mag, turn_difference=800)"
   ]
  },
  {
   "cell_type": "code",
   "execution_count": null,
   "metadata": {},
   "outputs": [],
   "source": [
    "fig, ax = plt.subplots()\n",
    "ax.plot(x_mag,y_mag)\n",
    "print(turn_count)\n",
    "for i in idx:\n",
    "    ax.scatter(x_mag[i], y_mag[i], c='red')"
   ]
  },
  {
   "cell_type": "code",
   "execution_count": null,
   "metadata": {},
   "outputs": [],
   "source": [
    "def find_minisectors_times(lap_tel, turn_difference=800):\n",
    "    mini_sector_times = []\n",
    "    ## find idx of mini sectors\n",
    "    idx, _ = find_minisectors(lap_tel, turn_difference)\n",
    "    \n",
    "    time = lap_tel[\"Time\"]\n",
    "    last_time = time[idx[0]]\n",
    "    for i in idx[1:]:\n",
    "        current_time = time[i]\n",
    "        mini_sector_time = current_time - last_time\n",
    "        mini_sector_times.append(mini_sector_time)\n",
    "        last_time = time[i]\n",
    "    return mini_sector_times\n",
    "\n",
    "def find_minisectors_for_two(lap_tel_1, lap_tel_2, turn_difference=800):\n",
    "    mini_sector_times_1 = []\n",
    "    mini_sector_times_2 = []\n",
    "    \n",
    "    idx, _ = find_minisectors(lap_tel_1, turn_difference)\n",
    "    \n",
    "    time_1 = lap_tel_1[\"Time\"]\n",
    "    time_2 = lap_tel_2[\"Time\"]\n",
    "    prev_time_1 = time_1[idx[0]]\n",
    "    prev_time_2 = time_2[idx[0]]\n",
    "\n",
    "    for i in idx[1:]:\n",
    "        current_time_1 = time_1[i]\n",
    "        current_time_2 = time_1[i]\n",
    "\n",
    "        mini_sector_time_1 = current_time_1 - prev_time_1\n",
    "        mini_sector_time_2 = current_time_2 - prev_time_2\n",
    "\n",
    "        mini_sector_times_1.append(mini_sector_time_1)\n",
    "        mini_sector_times_2.append(mini_sector_time_2)\n",
    "        \n",
    "        prev_time_1 = time_1[i]\n",
    "        prev_time_2 = time_2[i]\n",
    "    return mini_sector_times_1, mini_sector_times_2"
   ]
  },
  {
   "cell_type": "code",
   "execution_count": null,
   "metadata": {},
   "outputs": [],
   "source": [
    "def compare_minisectors(lap_tel_1, lap_tel_2, turn_difference=800):\n",
    "    \n",
    "    first_fastest = []\n",
    "\n",
    "    mini_sectors_1, mini_sectors_2 = find_minisectors_for_two(lap_tel_1, lap_tel_2, turn_difference)\n",
    "\n",
    "    for i in range(len(mini_sectors_1)):\n",
    "        first_fastest.append(mini_sectors_1[i] < mini_sectors_2[i])\n",
    "    \n",
    "    return idx, first_fastest\n"
   ]
  },
  {
   "cell_type": "code",
   "execution_count": null,
   "metadata": {},
   "outputs": [],
   "source": [
    "idx, first_fastest = compare_minisectors(best_lap_tel_mag, best_lap_tel_ver, turn_difference=800)"
   ]
  },
  {
   "cell_type": "code",
   "execution_count": null,
   "metadata": {},
   "outputs": [],
   "source": [
    "magColor = fastf1.plotting.driver_color(\"mag\")\n",
    "verColor = fastf1.plotting.driver_color(\"ver\")"
   ]
  },
  {
   "cell_type": "code",
   "execution_count": null,
   "metadata": {},
   "outputs": [],
   "source": [
    "img = plt.imread(\"Brazil_Circuit.png\")\n",
    "fig, ax = plt.subplots()\n",
    "ax.imshow(img, extent=[-6250, 6850, -2400, 5150])\n",
    "ax.set_facecolor(\"white\")\n",
    "ax.xaxis.set_visible(False)\n",
    "ax.yaxis.set_visible(False)\n",
    "\n",
    "# ax.plot(x_mag,y_mag, color='black')\n",
    "for index in x_mag.index:\n",
    "    if index in idx[:]:\n",
    "        color = magColor if first_fastest[idx.index(index) - 1] else verColor\n",
    "\n",
    "    ax.scatter(y_mag[index], -x_mag[index], c=color, s=1)\n",
    "\n",
    "plt.show()"
   ]
  },
  {
   "attachments": {},
   "cell_type": "markdown",
   "metadata": {},
   "source": [
    "### weather data"
   ]
  },
  {
   "cell_type": "code",
   "execution_count": null,
   "metadata": {},
   "outputs": [],
   "source": [
    "df_weather = pd.read_csv('q3_wheater.csv', index_col=False)"
   ]
  },
  {
   "cell_type": "code",
   "execution_count": null,
   "metadata": {},
   "outputs": [],
   "source": [
    "from datetime import datetime as dt\n",
    "from datetime import timedelta\n",
    "df_weather.sort_values(\"Time\", inplace=True)"
   ]
  },
  {
   "cell_type": "code",
   "execution_count": null,
   "metadata": {},
   "outputs": [],
   "source": [
    "def convert_string_to_time(string):\n",
    "    string = string.split(\" \")[-1]\n",
    "    return dt.strptime(string, '%H:%M:%S.%f')"
   ]
  },
  {
   "cell_type": "code",
   "execution_count": null,
   "metadata": {},
   "outputs": [],
   "source": [
    "def convert_delta_to_time(delta):\n",
    "    datetime_0 = dt(1900,1,1,0,0,0)\n",
    "\n",
    "    return (datetime_0 + delta)"
   ]
  },
  {
   "cell_type": "code",
   "execution_count": null,
   "metadata": {},
   "outputs": [],
   "source": [
    "best_lap_mag_date_time = best_lap_mag[\"SessionTime\"].apply(convert_delta_to_time)\n",
    "best_lap_ver_date_time = best_lap_ver[\"SessionTime\"].apply(convert_delta_to_time)"
   ]
  },
  {
   "cell_type": "code",
   "execution_count": null,
   "metadata": {},
   "outputs": [],
   "source": [
    "## track temp over time\n",
    "fig, ax = plt.subplots()\n",
    "ax.xaxis.axis_date()\n",
    "for idx, _  in enumerate(df_weather.index):\n",
    "\n",
    "    isRainfall = df_weather.iloc[idx][\"Rainfall\"]\n",
    "    timeString = df_weather.iloc[idx][\"Time\"]\n",
    "    trackTemp = df_weather.iloc[idx][\"TrackTemp\"]\n",
    "    timeStamp = convert_string_to_time(timeString)\n",
    "    ax.plot(timeStamp, trackTemp, c=\"blue\" if isRainfall else \"black\",  marker=\"o\", markersize=5)\n",
    "ax.plot(best_lap_mag_date_time, [26]*len(best_lap_mag[\"SessionTime\"]), c=\"black\")\n",
    "ax.plot(best_lap_ver_date_time, [25]*len(best_lap_ver[\"SessionTime\"]), c=\"blue\")"
   ]
  },
  {
   "cell_type": "code",
   "execution_count": null,
   "metadata": {},
   "outputs": [],
   "source": []
  },
  {
   "cell_type": "code",
   "execution_count": null,
   "metadata": {},
   "outputs": [],
   "source": []
  }
 ],
 "metadata": {
  "kernelspec": {
   "display_name": "venv",
   "language": "python",
   "name": "python3"
  },
  "language_info": {
   "codemirror_mode": {
    "name": "ipython",
    "version": 3
   },
   "file_extension": ".py",
   "mimetype": "text/x-python",
   "name": "python",
   "nbconvert_exporter": "python",
   "pygments_lexer": "ipython3",
   "version": "3.11.3"
  },
  "orig_nbformat": 4
 },
 "nbformat": 4,
 "nbformat_minor": 2
}
