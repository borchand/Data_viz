{
 "cells": [
  {
   "cell_type": "code",
   "execution_count": null,
   "metadata": {},
   "outputs": [],
   "source": [
    "import fastf1\n",
    "from matplotlib import pyplot as plt\n",
    "import fastf1\n",
    "import fastf1.plotting"
   ]
  },
  {
   "cell_type": "code",
   "execution_count": null,
   "metadata": {},
   "outputs": [],
   "source": [
    "session = fastf1.get_session(2022, 21, \"Q\")\n",
    "session.load(telemetry=True, laps=True, weather=True)"
   ]
  },
  {
   "cell_type": "code",
   "execution_count": null,
   "metadata": {},
   "outputs": [],
   "source": [
    "session.laps"
   ]
  },
  {
   "cell_type": "code",
   "execution_count": null,
   "metadata": {},
   "outputs": [],
   "source": [
    "session.weather_data"
   ]
  },
  {
   "cell_type": "code",
   "execution_count": null,
   "metadata": {},
   "outputs": [],
   "source": [
    "fastf1.plotting.setup_mpl()\n",
    "\n",
    "session = fastf1.get_session(2022, 21, 'Q')\n",
    "session.load(laps=True, telemetry=True, weather=True)\n",
    "laps = session.laps\n",
    "\n",
    "q1, q2, q3 = laps.split_qualifying_sessions()\n",
    "wheater = q3.get_weather_data()\n",
    "\n",
    "fast_mag = q3.pick_driver('MAG')\n",
    "mag_car_data = fast_mag.get_car_data()\n",
    "t_mag = mag_car_data['SessionTime']\n",
    "vCar_mag = mag_car_data['Speed']\n",
    "\n",
    "fast_ver = q3.pick_driver('VER')\n",
    "ver_car_data = fast_ver.get_car_data()\n",
    "t_ver = ver_car_data['SessionTime']\n",
    "vCar_ver = ver_car_data['Speed']\n",
    "mag_car_data"
   ]
  },
  {
   "cell_type": "code",
   "execution_count": null,
   "metadata": {},
   "outputs": [],
   "source": [
    "\n",
    "\n",
    "# The rest is just plotting\n",
    "fig, ax = plt.subplots()\n",
    "ax.plot(t_mag, vCar_mag, label='Mag')\n",
    "ax.plot(t_ver, vCar_ver, label='Ver')\n",
    "# ax.plot(wheater['Time'], wheater['WindDirection'], label='Wheater')\n",
    "ax.set_xlabel('Time [s]')\n",
    "ax.set_ylabel('Speed [Km/h]')\n",
    "ax.set_title('MAG is')\n",
    "ax.legend()\n",
    "plt.show()"
   ]
  },
  {
   "cell_type": "code",
   "execution_count": null,
   "metadata": {},
   "outputs": [],
   "source": [
    "mag_car_data.to_csv('q3_mag_car_data.csv')\n",
    "ver_car_data.to_csv('q3_ver_car_data.csv')\n",
    "wheater.to_csv('q3_wheater.csv')"
   ]
  }
 ],
 "metadata": {
  "kernelspec": {
   "display_name": "venv",
   "language": "python",
   "name": "python3"
  },
  "language_info": {
   "codemirror_mode": {
    "name": "ipython",
    "version": 3
   },
   "file_extension": ".py",
   "mimetype": "text/x-python",
   "name": "python",
   "nbconvert_exporter": "python",
   "pygments_lexer": "ipython3",
   "version": "3.11.3"
  },
  "orig_nbformat": 4
 },
 "nbformat": 4,
 "nbformat_minor": 2
}
