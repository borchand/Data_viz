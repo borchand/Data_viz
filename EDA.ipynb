{
 "cells": [
  {
   "cell_type": "code",
   "execution_count": null,
   "metadata": {},
   "outputs": [],
   "source": [
    "import fastf1\n",
    "from matplotlib import pyplot as plt\n",
    "import fastf1\n",
    "import fastf1.plotting as f1_plt\n",
    "import pandas as pd"
   ]
  },
  {
   "cell_type": "code",
   "execution_count": null,
   "metadata": {},
   "outputs": [],
   "source": [
    "session = fastf1.get_session(2022, 21, \"Q\")\n",
    "session.load(telemetry=True, laps=True, weather=True)"
   ]
  },
  {
   "cell_type": "code",
   "execution_count": null,
   "metadata": {},
   "outputs": [],
   "source": [
    "session = fastf1.get_session(2022, 21, 'Q')\n",
    "session.load(laps=True, telemetry=True, weather=True)\n",
    "laps = session.laps\n",
    "\n",
    "q1, q2, q3 = laps.split_qualifying_sessions()\n",
    "wheater = q3.get_weather_data()\n",
    "\n",
    "fast_mag = q3.pick_driver('MAG')\n",
    "mag_car_data = fast_mag.get_car_data()\n",
    "t_mag = mag_car_data['SessionTime']\n",
    "vCar_mag = mag_car_data['Speed']\n",
    "\n",
    "fast_ver = q3.pick_driver('VER')\n",
    "ver_car_data = fast_ver.get_car_data()\n",
    "t_ver = ver_car_data['SessionTime']\n",
    "vCar_ver = ver_car_data['Speed']\n",
    "mag_car_data"
   ]
  },
  {
   "cell_type": "code",
   "execution_count": null,
   "metadata": {},
   "outputs": [],
   "source": [
    "t_mag = mag_car_data['Date']\n",
    "t_ver = ver_car_data['Date']\n",
    "\n",
    "\n",
    "# The rest is just plotting\n",
    "fig, ax = plt.subplots()\n",
    "ax.plot(t_mag, vCar_mag, label='Mag')\n",
    "ax.plot(t_ver, vCar_ver, label='Ver')\n",
    "# ax.plot(wheater['Time'], wheater['WindDirection'], label='Wheater')\n",
    "ax.set_ylabel('Speed [Km/h]')\n",
    "ax.set_title('MAG is')\n",
    "ax.legend()\n",
    "plt.show()"
   ]
  },
  {
   "cell_type": "code",
   "execution_count": null,
   "metadata": {},
   "outputs": [],
   "source": [
    "df_weather = pd.read_csv('q3_wheater.csv')"
   ]
  },
  {
   "cell_type": "code",
   "execution_count": null,
   "metadata": {},
   "outputs": [],
   "source": [
    "session = fastf1.get_session(2022, 21, 'Q')\n",
    "session.load(laps=True, telemetry=True, weather=True)\n",
    "laps = session.laps\n",
    "\n",
    "q1, q2, q3 = laps.split_qualifying_sessions()\n",
    "wheater = q3.get_weather_data()\n",
    "\n",
    "fast_mag = q3.pick_driver('MAG')\n",
    "mag_car_data = fast_mag.get_car_data()\n",
    "t_mag = mag_car_data['SessionTime']\n",
    "vCar_mag = mag_car_data['Speed']\n",
    "\n",
    "fast_ver = q3.pick_driver('VER')\n",
    "ver_car_data = fast_ver.get_car_data()\n",
    "t_ver = ver_car_data['SessionTime']\n",
    "vCar_ver = ver_car_data['Speed']"
   ]
  },
  {
   "attachments": {},
   "cell_type": "markdown",
   "metadata": {},
   "source": [
    "### Best lap and showing track"
   ]
  },
  {
   "cell_type": "code",
   "execution_count": null,
   "metadata": {},
   "outputs": [],
   "source": [
    "s1_mag = fast_mag.pick_fastest()[\"Sector1Time\"] \n",
    "s1_ver = fast_ver.pick_fastest()[\"Sector1Time\"] \n",
    " \n",
    "s2_mag = fast_mag.pick_fastest()[\"Sector2Time\"] \n",
    "s2_ver = fast_ver.pick_fastest()[\"Sector2Time\"] \n",
    "\n",
    "s3_mag = fast_mag.pick_fastest()[\"Sector3Time\"] \n",
    "s3_ver = fast_ver.pick_fastest()[\"Sector3Time\"] \n",
    "\n",
    "s1 = fast_mag.pick_fastest()[\"Sector1Time\"] < fast_ver.pick_fastest()[\"Sector1Time\"] \n",
    "s2 = fast_mag.pick_fastest()[\"Sector2Time\"] < fast_ver.pick_fastest()[\"Sector2Time\"] \n",
    "s3 = fast_mag.pick_fastest()[\"Sector3Time\"] < fast_ver.pick_fastest()[\"Sector3Time\"] \n",
    "print(s1_mag, s1_ver)\n",
    "print(s2_mag, s2_ver)\n",
    "print(s3_mag, s3_ver)\n",
    "\n",
    "print(s1,s2,s3)"
   ]
  },
  {
   "cell_type": "code",
   "execution_count": null,
   "metadata": {},
   "outputs": [],
   "source": [
    "best_lap_mag = fast_mag.pick_lap(25).get_car_data()\n",
    "best_lap_tel_mag = fast_mag.pick_lap(25).get_telemetry()\n",
    "\n",
    "best_lap_ver = fast_ver.pick_lap(22).get_car_data()\n",
    "best_lap_tel_ver = fast_ver.pick_lap(22).get_telemetry()\n",
    "\n",
    "x_mag = best_lap_tel_mag[\"X\"]\n",
    "y_mag = best_lap_tel_mag[\"Y\"]\n",
    "x_ver = best_lap_tel_ver[\"X\"]\n",
    "y_ver = best_lap_tel_ver[\"Y\"]\n",
    "\n",
    "fig, ax = plt.subplots()\n",
    "\n",
    "\n",
    "ax.plot(x_mag, y_mag, label='MAG')\n",
    "ax.plot(x_ver, y_ver, label='VER')\n",
    "plt.show()"
   ]
  },
  {
   "attachments": {},
   "cell_type": "markdown",
   "metadata": {},
   "source": [
    "### Difference in time"
   ]
  },
  {
   "cell_type": "code",
   "execution_count": null,
   "metadata": {},
   "outputs": [],
   "source": [
    "best_lap_tel_mag[\"Distance\"]"
   ]
  },
  {
   "cell_type": "code",
   "execution_count": null,
   "metadata": {},
   "outputs": [],
   "source": [
    "idx = best_lap_tel_ver.index\n",
    "best_lap_tel_ver[\"Time\"]\n",
    "best_lap_tel_mag[\"X\"]\n",
    "best_lap_tel_mag[\"Y\"]\n"
   ]
  },
  {
   "cell_type": "code",
   "execution_count": null,
   "metadata": {},
   "outputs": [],
   "source": [
    "fig, ax = plt.subplots()\n",
    "for idx in best_lap_tel_mag.index:\n",
    "    ver = best_lap_tel_ver[\"Time\"][idx]\n",
    "    mag = best_lap_tel_mag[\"Time\"][idx]\n",
    "    \n",
    "    ahead = ver > mag\n",
    "    ax.scatter(x_mag[idx], y_mag[idx], c='grey' if ahead else 'blue')\n",
    "    print(ver, mag, ahead)  \n",
    "plt.show()  "
   ]
  },
  {
   "cell_type": "code",
   "execution_count": null,
   "metadata": {},
   "outputs": [],
   "source": []
  },
  {
   "attachments": {},
   "cell_type": "markdown",
   "metadata": {},
   "source": [
    "### Get differet sectors and mini sectors"
   ]
  },
  {
   "cell_type": "code",
   "execution_count": null,
   "metadata": {},
   "outputs": [],
   "source": [
    "fast_mag"
   ]
  },
  {
   "cell_type": "code",
   "execution_count": null,
   "metadata": {},
   "outputs": [],
   "source": []
  }
 ],
 "metadata": {
  "kernelspec": {
   "display_name": "venv",
   "language": "python",
   "name": "python3"
  },
  "language_info": {
   "codemirror_mode": {
    "name": "ipython",
    "version": 3
   },
   "file_extension": ".py",
   "mimetype": "text/x-python",
   "name": "python",
   "nbconvert_exporter": "python",
   "pygments_lexer": "ipython3",
   "version": "3.11.3"
  },
  "orig_nbformat": 4
 },
 "nbformat": 4,
 "nbformat_minor": 2
}
