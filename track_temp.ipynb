{
 "cells": [
  {
   "cell_type": "code",
   "execution_count": null,
   "metadata": {},
   "outputs": [],
   "source": [
    "import utils\n",
    "from matplotlib import pyplot as plt\n",
    "import fastf1\n",
    "import pandas as pd\n",
    "from datetime import timedelta, datetime"
   ]
  },
  {
   "cell_type": "code",
   "execution_count": null,
   "metadata": {},
   "outputs": [],
   "source": [
    "magColor = fastf1.plotting.driver_color(\"mag\")\n",
    "verColor = fastf1.plotting.driver_color(\"ver\")"
   ]
  },
  {
   "cell_type": "code",
   "execution_count": null,
   "metadata": {},
   "outputs": [],
   "source": [
    "session = fastf1.get_session(2022, 21, 'Q')\n",
    "session.load(laps=True, telemetry=True, weather=True)\n",
    "laps = session.laps\n",
    "\n",
    "q1, q2, q3 = laps.split_qualifying_sessions()\n",
    "wheater = q3.get_weather_data()\n",
    "\n",
    "fast_mag = q3.pick_driver('MAG')\n",
    "mag_car_data = fast_mag.get_car_data()\n",
    "t_mag = mag_car_data['SessionTime']\n",
    "vCar_mag = mag_car_data['Speed']\n",
    "\n",
    "fast_ver = q3.pick_driver('VER')\n",
    "ver_car_data = fast_ver.get_car_data()\n",
    "t_ver = ver_car_data['SessionTime']\n",
    "vCar_ver = ver_car_data['Speed']"
   ]
  },
  {
   "cell_type": "code",
   "execution_count": null,
   "metadata": {},
   "outputs": [],
   "source": [
    "best_lap_mag, best_lap_ver = utils.get_qualifying_laps_for_mag_and_ver(q3)"
   ]
  },
  {
   "cell_type": "code",
   "execution_count": null,
   "metadata": {},
   "outputs": [],
   "source": [
    "df_weather = pd.read_csv(\"data/q3_wheater.csv\")\n",
    "track_status = session.track_status\n",
    "yellow_flag = track_status[track_status[\"Message\"] == \"Yellow\"]\n",
    "yellow_time = utils.convert_delta_to_time(yellow_flag[\"Time\"])\n",
    "\n",
    "red_flag = track_status[track_status[\"Message\"] == \"Red\"].iloc[0]\n",
    "red_time = utils.convert_delta_to_time(red_flag[\"Time\"])\n",
    "\n",
    "allClear = track_status[track_status[\"Message\"] == \"AllClear\"]\n",
    "allClear_time = utils.convert_delta_to_time(allClear[\"Time\"])\n",
    "allClearAfterRed = allClear.iloc[-1]\n",
    "allClearAfterRed_time = utils.convert_delta_to_time(allClearAfterRed[\"Time\"])"
   ]
  },
  {
   "cell_type": "code",
   "execution_count": null,
   "metadata": {},
   "outputs": [],
   "source": [
    "min_time = df_weather[\"Time\"].min()\n",
    "min_time = utils.convert_string_to_time(min_time)\n",
    "max_time = df_weather[\"Time\"].max()\n",
    "max_time = utils.convert_string_to_time(max_time)\n",
    "td_5sec = timedelta(seconds=5)"
   ]
  },
  {
   "cell_type": "code",
   "execution_count": null,
   "metadata": {},
   "outputs": [],
   "source": [
    "## track temp over time\n",
    "fig, ax = plt.subplots()\n",
    "ax.xaxis.axis_date()\n",
    "\n",
    "red_flag = track_status[track_status[\"Message\"] == \"Red\"].iloc[0]\n",
    "red_time = utils.convert_delta_to_time(red_flag[\"Time\"])\n",
    "\n",
    "ax.vlines(x=yellow_time, ymin=25, ymax=27, color=\"gold\", linewidth=3)\n",
    "while red_time < allClearAfterRed_time:\n",
    "    red_time += td_5sec\n",
    "    ax.vlines(x=red_time, ymin=25, ymax=27, color=\"red\", linewidth=2)\n",
    "ax.vlines(x=allClearAfterRed_time, ymin=25, ymax=27, color=\"green\", linewidth=4)\n",
    "\n",
    "for idx, _  in enumerate(df_weather.index):\n",
    "\n",
    "    isRainfall = df_weather.iloc[idx][\"Rainfall\"]\n",
    "    timeString = df_weather.iloc[idx][\"Time\"]\n",
    "    trackTemp = df_weather.iloc[idx][\"TrackTemp\"]\n",
    "    timeStamp = utils.convert_string_to_time(timeString)\n",
    "    ax.plot(timeStamp, trackTemp, c=\"blue\" if isRainfall else \"black\",  marker=\"o\", markersize=5)"
   ]
  },
  {
   "cell_type": "code",
   "execution_count": null,
   "metadata": {},
   "outputs": [],
   "source": [
    "best_lap_mag_date_time = best_lap_mag[\"Time\"].apply(utils.convert_delta_to_time)\n",
    "best_lap_ver_date_time = best_lap_ver[\"Time\"].apply(utils.convert_delta_to_time) "
   ]
  },
  {
   "cell_type": "code",
   "execution_count": null,
   "metadata": {},
   "outputs": [],
   "source": [
    "fig, ax = plt.subplots()\n",
    "ax.plot(best_lap_mag_date_time, best_lap_mag[\"Speed\"], c=\"red\")\n",
    "ax.plot(best_lap_ver_date_time, best_lap_ver[\"Speed\"], c=\"blue\")\n",
    "ax.set_xlabel(\"lap time m:ss\")\n",
    "ax.set_ylabel(\"Speed (km/h)\")\n",
    "ax.spines['top'].set_visible(False)\n",
    "ax.spines['right'].set_visible(False)\n",
    "ax.spines['bottom'].set_visible(False)\n",
    "ax.spines['left'].set_visible(False)\n",
    "ax.xaxis.axis_date()\n",
    "\n",
    "ax.set_title(\"Speed in qualifying\")\n",
    "plt.setp(ax.get_xticklabels()[::2], visible=False)"
   ]
  }
 ],
 "metadata": {
  "kernelspec": {
   "display_name": "dataviz",
   "language": "python",
   "name": "python3"
  },
  "language_info": {
   "codemirror_mode": {
    "name": "ipython",
    "version": 3
   },
   "file_extension": ".py",
   "mimetype": "text/x-python",
   "name": "python",
   "nbconvert_exporter": "python",
   "pygments_lexer": "ipython3",
   "version": "3.11.3"
  },
  "orig_nbformat": 4
 },
 "nbformat": 4,
 "nbformat_minor": 2
}
