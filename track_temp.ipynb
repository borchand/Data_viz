{
 "cells": [
  {
   "cell_type": "code",
   "execution_count": 1,
   "metadata": {},
   "outputs": [],
   "source": [
    "import utils\n",
    "from matplotlib import pyplot as plt\n",
    "import fastf1\n",
    "import pandas as pd\n",
    "from datetime import timedelta, datetime"
   ]
  },
  {
   "cell_type": "code",
   "execution_count": 2,
   "metadata": {},
   "outputs": [],
   "source": [
    "magColor = fastf1.plotting.driver_color(\"mag\")\n",
    "verColor = fastf1.plotting.driver_color(\"ver\")"
   ]
  },
  {
   "cell_type": "code",
   "execution_count": 3,
   "metadata": {},
   "outputs": [
    {
     "name": "stderr",
     "output_type": "stream",
     "text": [
      "req         WARNING \t\n",
      "\n",
      "DEFAULT CACHE ENABLED!\n",
      "\tCache directory: /home/nicra/.cache/fastf1.\n",
      "\tSize: 48.52 MB\n",
      "core           INFO \tLoading data for São Paulo Grand Prix - Qualifying [v3.0.0]\n",
      "req            INFO \tUsing cached data for driver_info\n",
      "req            INFO \tUsing cached data for session_status_data\n",
      "req            INFO \tUsing cached data for track_status_data\n",
      "req            INFO \tUsing cached data for timing_data\n",
      "req            INFO \tUsing cached data for timing_app_data\n",
      "core           INFO \tProcessing timing data...\n",
      "req            INFO \tUsing cached data for car_data\n",
      "req            INFO \tUsing cached data for position_data\n",
      "req            INFO \tUsing cached data for weather_data\n",
      "req            INFO \tUsing cached data for race_control_messages\n",
      "core           INFO \tFinished loading data for 20 drivers: ['20', '1', '63', '4', '55', '31', '14', '44', '11', '16', '23', '10', '5', '3', '18', '6', '24', '77', '22', '47']\n"
     ]
    }
   ],
   "source": [
    "session = fastf1.get_session(2022, 21, 'Q')\n",
    "session.load(laps=True, telemetry=True, weather=True)\n",
    "laps = session.laps\n",
    "\n",
    "q1, q2, q3 = laps.split_qualifying_sessions()\n",
    "\n",
    "fast_mag = q3.pick_driver('MAG')\n",
    "\n",
    "fast_ver = q3.pick_driver('VER')"
   ]
  },
  {
   "cell_type": "code",
   "execution_count": 4,
   "metadata": {},
   "outputs": [],
   "source": [
    "best_lap_mag, best_lap_ver = utils.get_qualifying_laps_for_mag_and_ver(q3)"
   ]
  },
  {
   "cell_type": "code",
   "execution_count": 5,
   "metadata": {},
   "outputs": [],
   "source": [
    "df_weather = pd.read_csv(\"data/q3_wheater.csv\")\n",
    "track_status = session.track_status\n",
    "yellow_flag = track_status[track_status[\"Message\"] == \"Yellow\"]\n",
    "yellow_time = utils.convert_delta_to_time(yellow_flag[\"Time\"])\n",
    "\n",
    "red_flag = track_status[track_status[\"Message\"] == \"Red\"].iloc[0]\n",
    "red_time = utils.convert_delta_to_time(red_flag[\"Time\"])\n",
    "\n",
    "allClear = track_status[track_status[\"Message\"] == \"AllClear\"]\n",
    "allClear_time = utils.convert_delta_to_time(allClear[\"Time\"])\n",
    "allClearAfterRed = allClear.iloc[-1]\n",
    "allClearAfterRed_time = utils.convert_delta_to_time(allClearAfterRed[\"Time\"])\n"
   ]
  },
  {
   "cell_type": "code",
   "execution_count": 6,
   "metadata": {},
   "outputs": [],
   "source": [
    "q_time_delta_0_date = session.event.Session2Date"
   ]
  },
  {
   "cell_type": "code",
   "execution_count": null,
   "metadata": {},
   "outputs": [],
   "source": []
  },
  {
   "cell_type": "code",
   "execution_count": 7,
   "metadata": {},
   "outputs": [],
   "source": [
    "## Q3 start and end time\n",
    "q3_end = session.session_status.iloc[-2][\"Time\"]\n",
    "q3_end_time = q3_end + q_time_delta_0_date\n",
    "q3_start = session.session_status.iloc[7][\"Time\"]\n",
    "q3_start_time = q3_start + q_time_delta_0_date"
   ]
  },
  {
   "cell_type": "code",
   "execution_count": 8,
   "metadata": {},
   "outputs": [],
   "source": [
    "## rain start time\n",
    "df_sorted = df_weather[[\"Time\", \"Rainfall\", \"TrackTemp\"]].sort_values(\"Time\") \n",
    "rain_start = df_sorted[df_sorted[\"Rainfall\"]].iloc[0][\"Time\"]\n",
    "\n",
    "date_time = utils.convert_string_to_time(rain_start)\n",
    "total_seconds = date_time.hour * 3600 + date_time.minute * 60 + date_time.second\n",
    "rain_start_time = timedelta(seconds=total_seconds) + q_time_delta_0_date"
   ]
  },
  {
   "cell_type": "code",
   "execution_count": 26,
   "metadata": {},
   "outputs": [],
   "source": [
    "df_track_temp = df_weather[[\"Time\", \"TrackTemp\"]].copy()\n",
    "df_track_temp[\"Time\"] = df_track_temp[\"Time\"].map(utils.convert_string_to_time).map(lambda x: utils.convert_time_to_date(q_time_delta_0_date, x))\n",
    "df_track_temp[\"TrackTemp\"] = df_weather[\"TrackTemp\"]"
   ]
  },
  {
   "cell_type": "code",
   "execution_count": 39,
   "metadata": {},
   "outputs": [],
   "source": [
    "df_track_temp.sort_values(\"Time\", inplace=True)\n",
    "track_temp_before_time = df_track_temp[\"Time\"].iloc[0]\n",
    "track_temp_before_value = df_track_temp[\"TrackTemp\"].iloc[0]\n",
    "\n",
    "track_temp_mid_time = df_track_temp[\"Time\"][30]\n",
    "track_temp_mid_value = df_track_temp[\"TrackTemp\"][30]\n",
    "\n",
    "track_temp_after_time = df_track_temp[\"Time\"][28]\n",
    "track_temp_after_value = df_track_temp[\"TrackTemp\"][28]\n"
   ]
  },
  {
   "cell_type": "code",
   "execution_count": 40,
   "metadata": {},
   "outputs": [
    {
     "data": {
      "text/plain": [
       "25.0"
      ]
     },
     "execution_count": 40,
     "metadata": {},
     "output_type": "execute_result"
    }
   ],
   "source": [
    "track_temp_after_value"
   ]
  },
  {
   "cell_type": "code",
   "execution_count": 31,
   "metadata": {},
   "outputs": [
    {
     "data": {
      "text/plain": [
       "<matplotlib.collections.PathCollection at 0x7ff6b4e0e810>"
      ]
     },
     "execution_count": 31,
     "metadata": {},
     "output_type": "execute_result"
    },
    {
     "data": {
      "image/png": "[encoded data removed]",
      "text/plain": [
       "<Figure size 640x480 with 1 Axes>"
      ]
     },
     "metadata": {},
     "output_type": "display_data"
    }
   ],
   "source": [
    "plt.scatter(df_track_temp[\"Time\"], df_track_temp[\"TrackTemp\"], label=\"track temp\")"
   ]
  },
  {
   "cell_type": "code",
   "execution_count": 45,
   "metadata": {},
   "outputs": [],
   "source": [
    "## get track status\n",
    "track_status = session.track_status.copy()\n",
    "\n",
    "## convert to datetime\n",
    "track_status[\"Time\"] = track_status[\"Time\"] + q_time_delta_0_date\n",
    "\n",
    "## get best lap time\n",
    "q_lap_mag = fast_mag.pick_lap(utils.MAG_QUALIFYING_LAP).get_car_data()\n",
    "q_lap_ver = fast_ver.pick_lap(utils.VER_QUALIFYING_LAP).get_car_data()\n",
    "\n",
    "## convert to datetime\n",
    "q_lap_mag_start = q_lap_mag.iloc[0][\"SessionTime\"] + q_time_delta_0_date\n",
    "q_lap_ver_start = q_lap_ver.iloc[0][\"SessionTime\"] + q_time_delta_0_date\n",
    "\n",
    "## create rows \n",
    "q3_start_time_row = [q3_start_time, 10, \"Q3Start\"]\n",
    "q3_end_time_row = [q3_end_time, 10, \"Q3End\"]\n",
    "q_lap_mag_start_row = [q_lap_mag_start, 10, \"Q3LapMagStart\"]\n",
    "q_lap_ver_start_row = [q_lap_ver_start, 10, \"Q3LapVerStart\"]\n",
    "rain_start_time_row = [rain_start_time, 10, \"RainStart\"]\n",
    "track_temp_before_time_row = [track_temp_before_time, track_temp_after_value, f\"Track Temp {track_temp_before_value} °C\"]\n",
    "track_temp_mid_time_row = [track_temp_mid_time, track_temp_mid_value, f\"Track Temp {track_temp_mid_value} °C\"]\n",
    "track_temp_after_time_row = [track_temp_after_time, track_temp_after_value, f\"Track Temp {track_temp_after_value} °C\"]\n",
    "\n",
    "## add rows to track status dataframe\n",
    "track_status.loc[track_status.shape[0]] = rain_start_time_row\n",
    "track_status.loc[track_status.shape[0]] = q3_start_time_row\n",
    "track_status.loc[track_status.shape[0]] = q3_end_time_row\n",
    "track_status.loc[track_status.shape[0]] = q_lap_mag_start_row\n",
    "track_status.loc[track_status.shape[0]] = q_lap_ver_start_row\n",
    "track_status.loc[track_status.shape[0]] = track_temp_before_time_row\n",
    "track_status.loc[track_status.shape[0]] = track_temp_mid_time_row\n",
    "track_status.loc[track_status.shape[0]] = track_temp_after_time_row\n",
    "\n"
   ]
  },
  {
   "cell_type": "code",
   "execution_count": 46,
   "metadata": {},
   "outputs": [
    {
     "data": {
      "text/html": [
       "<div>\n",
       "<style scoped>\n",
       "    .dataframe tbody tr th:only-of-type {\n",
       "        vertical-align: middle;\n",
       "    }\n",
       "\n",
       "    .dataframe tbody tr th {\n",
       "        vertical-align: top;\n",
       "    }\n",
       "\n",
       "    .dataframe thead th {\n",
       "        text-align: right;\n",
       "    }\n",
       "</style>\n",
       "<table border=\"1\" class=\"dataframe\">\n",
       "  <thead>\n",
       "    <tr style=\"text-align: right;\">\n",
       "      <th></th>\n",
       "      <th>Time</th>\n",
       "      <th>Status</th>\n",
       "      <th>Message</th>\n",
       "    </tr>\n",
       "  </thead>\n",
       "  <tbody>\n",
       "    <tr>\n",
       "      <th>0</th>\n",
       "      <td>2022-11-11 16:00:00-03:00</td>\n",
       "      <td>1</td>\n",
       "      <td>AllClear</td>\n",
       "    </tr>\n",
       "    <tr>\n",
       "      <th>1</th>\n",
       "      <td>2022-11-11 17:05:31.530000-03:00</td>\n",
       "      <td>2</td>\n",
       "      <td>Yellow</td>\n",
       "    </tr>\n",
       "    <tr>\n",
       "      <th>2</th>\n",
       "      <td>2022-11-11 17:05:45.795000-03:00</td>\n",
       "      <td>5</td>\n",
       "      <td>Red</td>\n",
       "    </tr>\n",
       "    <tr>\n",
       "      <th>3</th>\n",
       "      <td>2022-11-11 17:10:21.300000-03:00</td>\n",
       "      <td>1</td>\n",
       "      <td>AllClear</td>\n",
       "    </tr>\n",
       "    <tr>\n",
       "      <th>4</th>\n",
       "      <td>2022-11-11 16:54:47-03:00</td>\n",
       "      <td>10</td>\n",
       "      <td>RainStart</td>\n",
       "    </tr>\n",
       "    <tr>\n",
       "      <th>5</th>\n",
       "      <td>2022-11-11 17:01:55.571000-03:00</td>\n",
       "      <td>10</td>\n",
       "      <td>Q3Start</td>\n",
       "    </tr>\n",
       "    <tr>\n",
       "      <th>6</th>\n",
       "      <td>2022-11-11 17:21:27.915000-03:00</td>\n",
       "      <td>10</td>\n",
       "      <td>Q3End</td>\n",
       "    </tr>\n",
       "    <tr>\n",
       "      <th>7</th>\n",
       "      <td>2022-11-11 17:03:15.221000-03:00</td>\n",
       "      <td>10</td>\n",
       "      <td>Q3LapMagStart</td>\n",
       "    </tr>\n",
       "    <tr>\n",
       "      <th>8</th>\n",
       "      <td>2022-11-11 17:03:32.620000-03:00</td>\n",
       "      <td>10</td>\n",
       "      <td>Q3LapVerStart</td>\n",
       "    </tr>\n",
       "    <tr>\n",
       "      <th>9</th>\n",
       "      <td>2022-11-11 16:53:47-03:00</td>\n",
       "      <td>25.0</td>\n",
       "      <td>Track Temp 27.0 °C</td>\n",
       "    </tr>\n",
       "    <tr>\n",
       "      <th>10</th>\n",
       "      <td>2022-11-11 17:03:47-03:00</td>\n",
       "      <td>26.2</td>\n",
       "      <td>Track Temp 26.2 °C</td>\n",
       "    </tr>\n",
       "    <tr>\n",
       "      <th>11</th>\n",
       "      <td>2022-11-11 17:13:47-03:00</td>\n",
       "      <td>25.0</td>\n",
       "      <td>Track Temp 25.0 °C</td>\n",
       "    </tr>\n",
       "  </tbody>\n",
       "</table>\n",
       "</div>"
      ],
      "text/plain": [
       "                               Time Status             Message\n",
       "0         2022-11-11 16:00:00-03:00      1            AllClear\n",
       "1  2022-11-11 17:05:31.530000-03:00      2              Yellow\n",
       "2  2022-11-11 17:05:45.795000-03:00      5                 Red\n",
       "3  2022-11-11 17:10:21.300000-03:00      1            AllClear\n",
       "4         2022-11-11 16:54:47-03:00     10           RainStart\n",
       "5  2022-11-11 17:01:55.571000-03:00     10             Q3Start\n",
       "6  2022-11-11 17:21:27.915000-03:00     10               Q3End\n",
       "7  2022-11-11 17:03:15.221000-03:00     10       Q3LapMagStart\n",
       "8  2022-11-11 17:03:32.620000-03:00     10       Q3LapVerStart\n",
       "9         2022-11-11 16:53:47-03:00   25.0  Track Temp 27.0 °C\n",
       "10        2022-11-11 17:03:47-03:00   26.2  Track Temp 26.2 °C\n",
       "11        2022-11-11 17:13:47-03:00   25.0  Track Temp 25.0 °C"
      ]
     },
     "execution_count": 46,
     "metadata": {},
     "output_type": "execute_result"
    }
   ],
   "source": [
    "track_status"
   ]
  },
  {
   "cell_type": "code",
   "execution_count": 47,
   "metadata": {},
   "outputs": [],
   "source": [
    "track_status.to_csv(\"data/track_status.csv\", index=False)"
   ]
  },
  {
   "cell_type": "code",
   "execution_count": null,
   "metadata": {},
   "outputs": [],
   "source": [
    "## pick qualifying lap \n",
    "q_lap_mag = fast_mag.pick_lap(utils.MAG_QUALIFYING_LAP).get_car_data()\n",
    "q_lap_ver = fast_ver.pick_lap(utils.VER_QUALIFYING_LAP).get_car_data()\n",
    "\n",
    "## make session time to datetime\n",
    "q_lap_mag[\"SessionTime\"] = q_lap_mag[\"SessionTime\"] + q_time_delta_0_date\n",
    "q_lap_ver[\"SessionTime\"] = q_lap_ver[\"SessionTime\"] + q_time_delta_0_date\n",
    "\n",
    "## drop unnecessary columns\n",
    "columns_to_drop = [\"nGear\",\"Brake\",\"DRS\",\"Source\", \"RPM\"]\n",
    "q_lap_mag = q_lap_mag.drop(columns=columns_to_drop)\n",
    "q_lap_ver = q_lap_ver.drop(columns=columns_to_drop)"
   ]
  },
  {
   "cell_type": "code",
   "execution_count": null,
   "metadata": {},
   "outputs": [],
   "source": [
    "## merge dataframes\n",
    "q_laps = pd.merge(q_lap_mag, q_lap_ver, on=\"SessionTime\", suffixes=(\"_mag\", \"_ver\"), how=\"outer\")\n",
    "q_laps.to_csv(\"data/q3_laps.csv\", index=False)"
   ]
  },
  {
   "cell_type": "code",
   "execution_count": null,
   "metadata": {},
   "outputs": [],
   "source": [
    "min_time = df_weather[\"Time\"].min()\n",
    "min_time = utils.convert_string_to_time(min_time)\n",
    "max_time = df_weather[\"Time\"].max()\n",
    "max_time = utils.convert_string_to_time(max_time)\n",
    "td_5sec = timedelta(seconds=5)"
   ]
  },
  {
   "cell_type": "code",
   "execution_count": null,
   "metadata": {},
   "outputs": [
    {
     "ename": "TypeError",
     "evalue": "unsupported operand type(s) for +: 'datetime.datetime' and 'Timestamp'",
     "output_type": "error",
     "traceback": [
      "\u001b[0;31m---------------------------------------------------------------------------\u001b[0m",
      "\u001b[0;31mTypeError\u001b[0m                                 Traceback (most recent call last)",
      "Cell \u001b[0;32mIn[16], line 6\u001b[0m\n\u001b[1;32m      3\u001b[0m ax\u001b[39m.\u001b[39mxaxis\u001b[39m.\u001b[39maxis_date()\n\u001b[1;32m      5\u001b[0m red_flag \u001b[39m=\u001b[39m track_status[track_status[\u001b[39m\"\u001b[39m\u001b[39mMessage\u001b[39m\u001b[39m\"\u001b[39m] \u001b[39m==\u001b[39m \u001b[39m\"\u001b[39m\u001b[39mRed\u001b[39m\u001b[39m\"\u001b[39m]\u001b[39m.\u001b[39miloc[\u001b[39m0\u001b[39m]\n\u001b[0;32m----> 6\u001b[0m red_time \u001b[39m=\u001b[39m utils\u001b[39m.\u001b[39;49mconvert_delta_to_time(red_flag[\u001b[39m\"\u001b[39;49m\u001b[39mTime\u001b[39;49m\u001b[39m\"\u001b[39;49m])\n\u001b[1;32m      8\u001b[0m ax\u001b[39m.\u001b[39mvlines(x\u001b[39m=\u001b[39myellow_time, ymin\u001b[39m=\u001b[39m\u001b[39m25\u001b[39m, ymax\u001b[39m=\u001b[39m\u001b[39m27\u001b[39m, color\u001b[39m=\u001b[39m\u001b[39m\"\u001b[39m\u001b[39mgold\u001b[39m\u001b[39m\"\u001b[39m, linewidth\u001b[39m=\u001b[39m\u001b[39m3\u001b[39m)\n\u001b[1;32m      9\u001b[0m \u001b[39mwhile\u001b[39;00m red_time \u001b[39m<\u001b[39m allClearAfterRed_time:\n",
      "File \u001b[0;32m~/github/Data_viz/utils.py:133\u001b[0m, in \u001b[0;36mconvert_delta_to_time\u001b[0;34m(delta)\u001b[0m\n\u001b[1;32m    130\u001b[0m \u001b[39mdef\u001b[39;00m \u001b[39mconvert_delta_to_time\u001b[39m(delta):\n\u001b[1;32m    131\u001b[0m     datetime_0 \u001b[39m=\u001b[39m datetime(\u001b[39m1900\u001b[39m,\u001b[39m1\u001b[39m,\u001b[39m1\u001b[39m,\u001b[39m0\u001b[39m,\u001b[39m0\u001b[39m,\u001b[39m0\u001b[39m)\n\u001b[0;32m--> 133\u001b[0m     \u001b[39mreturn\u001b[39;00m (datetime_0 \u001b[39m+\u001b[39;49m delta)\n",
      "\u001b[0;31mTypeError\u001b[0m: unsupported operand type(s) for +: 'datetime.datetime' and 'Timestamp'"
     ]
    },
    {
     "data": {
      "image/png": "[encoded data removed]",
      "text/plain": [
       "<Figure size 640x480 with 1 Axes>"
      ]
     },
     "metadata": {},
     "output_type": "display_data"
    }
   ],
   "source": [
    "## track temp over time\n",
    "fig, ax = plt.subplots()\n",
    "ax.xaxis.axis_date()\n",
    "\n",
    "red_flag = track_status[track_status[\"Message\"] == \"Red\"].iloc[0]\n",
    "red_time = utils.convert_delta_to_time(red_flag[\"Time\"])\n",
    "\n",
    "ax.vlines(x=yellow_time, ymin=25, ymax=27, color=\"gold\", linewidth=3)\n",
    "while red_time < allClearAfterRed_time:\n",
    "    red_time += td_5sec\n",
    "    ax.vlines(x=red_time, ymin=25, ymax=27, color=\"red\", linewidth=2)\n",
    "ax.vlines(x=allClearAfterRed_time, ymin=25, ymax=27, color=\"green\", linewidth=4)\n",
    "\n",
    "for idx, _  in enumerate(df_weather.index):\n",
    "\n",
    "    isRainfall = df_weather.iloc[idx][\"Rainfall\"]\n",
    "    timeString = df_weather.iloc[idx][\"Time\"]\n",
    "    trackTemp = df_weather.iloc[idx][\"TrackTemp\"]\n",
    "    timeStamp = utils.convert_string_to_time(timeString)\n",
    "    ax.plot(timeStamp, trackTemp, c=\"blue\" if isRainfall else \"black\",  marker=\"o\", markersize=5)"
   ]
  },
  {
   "cell_type": "code",
   "execution_count": null,
   "metadata": {},
   "outputs": [],
   "source": [
    "best_lap_mag_date_time = best_lap_mag[\"Time\"].apply(utils.convert_delta_to_time)\n",
    "best_lap_ver_date_time = best_lap_ver[\"Time\"].apply(utils.convert_delta_to_time) "
   ]
  },
  {
   "cell_type": "code",
   "execution_count": null,
   "metadata": {},
   "outputs": [
    {
     "data": {
      "text/plain": [
       "[None, None, None, None, None, None, None, None]"
      ]
     },
     "execution_count": 18,
     "metadata": {},
     "output_type": "execute_result"
    },
    {
     "data": {
      "image/png": "[encoded data removed]",
      "text/plain": [
       "<Figure size 640x480 with 1 Axes>"
      ]
     },
     "metadata": {},
     "output_type": "display_data"
    }
   ],
   "source": [
    "fig, ax = plt.subplots()\n",
    "ax.plot(best_lap_mag_date_time, best_lap_mag[\"Speed\"], c=\"red\")\n",
    "ax.plot(best_lap_ver_date_time, best_lap_ver[\"Speed\"], c=\"blue\")\n",
    "ax.set_xlabel(\"lap time m:ss\")\n",
    "ax.set_ylabel(\"Speed (km/h)\")\n",
    "ax.spines['top'].set_visible(False)\n",
    "ax.spines['right'].set_visible(False)\n",
    "ax.spines['bottom'].set_visible(False)\n",
    "ax.spines['left'].set_visible(False)\n",
    "ax.xaxis.axis_date()\n",
    "\n",
    "ax.set_title(\"Speed in qualifying\")\n",
    "plt.setp(ax.get_xticklabels()[::2], visible=False)"
   ]
  }
 ],
 "metadata": {
  "kernelspec": {
   "display_name": "dataviz",
   "language": "python",
   "name": "python3"
  },
  "language_info": {
   "codemirror_mode": {
    "name": "ipython",
    "version": 3
   },
   "file_extension": ".py",
   "mimetype": "text/x-python",
   "name": "python",
   "nbconvert_exporter": "python",
   "pygments_lexer": "ipython3",
   "version": "3.11.3"
  },
  "orig_nbformat": 4
 },
 "nbformat": 4,
 "nbformat_minor": 2
}
