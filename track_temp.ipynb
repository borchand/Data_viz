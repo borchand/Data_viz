{
 "cells": [
  {
   "cell_type": "code",
   "execution_count": 1,
   "metadata": {},
   "outputs": [],
   "source": [
    "import utils\n",
    "from matplotlib import pyplot as plt\n",
    "import fastf1\n",
    "import pandas as pd\n",
    "from datetime import timedelta, datetime"
   ]
  },
  {
   "cell_type": "code",
   "execution_count": 2,
   "metadata": {},
   "outputs": [],
   "source": [
    "magColor = fastf1.plotting.driver_color(\"mag\")\n",
    "verColor = fastf1.plotting.driver_color(\"ver\")"
   ]
  },
  {
   "cell_type": "code",
   "execution_count": 4,
   "metadata": {},
   "outputs": [
    {
     "name": "stderr",
     "output_type": "stream",
     "text": [
      "core           INFO \tLoading data for São Paulo Grand Prix - Qualifying [v3.0.0]\n",
      "req            INFO \tUsing cached data for driver_info\n",
      "req            INFO \tUsing cached data for session_status_data\n",
      "req            INFO \tUsing cached data for track_status_data\n",
      "req            INFO \tUsing cached data for timing_data\n",
      "req            INFO \tUsing cached data for timing_app_data\n",
      "core           INFO \tProcessing timing data...\n",
      "req            INFO \tUsing cached data for car_data\n",
      "req            INFO \tUsing cached data for position_data\n",
      "req            INFO \tUsing cached data for weather_data\n",
      "req            INFO \tUsing cached data for race_control_messages\n",
      "core           INFO \tFinished loading data for 20 drivers: ['20', '1', '63', '4', '55', '31', '14', '44', '11', '16', '23', '10', '5', '3', '18', '6', '24', '77', '22', '47']\n"
     ]
    }
   ],
   "source": [
    "session = fastf1.get_session(2022, 21, 'Q')\n",
    "session.load(laps=True, telemetry=True, weather=True)\n",
    "laps = session.laps\n",
    "\n",
    "q1, q2, q3 = laps.split_qualifying_sessions()\n",
    "\n",
    "fast_mag = q3.pick_driver('MAG')\n",
    "\n",
    "fast_ver = q3.pick_driver('VER')"
   ]
  },
  {
   "cell_type": "code",
   "execution_count": 5,
   "metadata": {},
   "outputs": [],
   "source": [
    "best_lap_mag, best_lap_ver = utils.get_qualifying_laps_for_mag_and_ver(q3)"
   ]
  },
  {
   "cell_type": "code",
   "execution_count": 6,
   "metadata": {},
   "outputs": [],
   "source": [
    "df_weather = pd.read_csv(\"data/q3_wheater.csv\")\n",
    "track_status = session.track_status\n",
    "yellow_flag = track_status[track_status[\"Message\"] == \"Yellow\"]\n",
    "yellow_time = utils.convert_delta_to_time(yellow_flag[\"Time\"])\n",
    "\n",
    "red_flag = track_status[track_status[\"Message\"] == \"Red\"].iloc[0]\n",
    "red_time = utils.convert_delta_to_time(red_flag[\"Time\"])\n",
    "\n",
    "allClear = track_status[track_status[\"Message\"] == \"AllClear\"]\n",
    "allClear_time = utils.convert_delta_to_time(allClear[\"Time\"])\n",
    "allClearAfterRed = allClear.iloc[-1]\n",
    "allClearAfterRed_time = utils.convert_delta_to_time(allClearAfterRed[\"Time\"])\n"
   ]
  },
  {
   "cell_type": "code",
   "execution_count": 7,
   "metadata": {},
   "outputs": [],
   "source": [
    "q_time_delta_0_date = session.event.Session2Date"
   ]
  },
  {
   "cell_type": "code",
   "execution_count": 36,
   "metadata": {},
   "outputs": [],
   "source": []
  },
  {
   "cell_type": "code",
   "execution_count": 8,
   "metadata": {},
   "outputs": [],
   "source": [
    "## Q3 start and end time\n",
    "q3_end = session.session_status.iloc[-2][\"Time\"]\n",
    "q3_end_time = q3_end + q_time_delta_0_date\n",
    "q3_start = session.session_status.iloc[7][\"Time\"]\n",
    "q3_start_time = q3_start + q_time_delta_0_date"
   ]
  },
  {
   "cell_type": "code",
   "execution_count": 37,
   "metadata": {},
   "outputs": [],
   "source": [
    "## rain start time\n",
    "df_sorted = df_weather[[\"Time\", \"Rainfall\"]].sort_values(\"Time\") \n",
    "rain_start = df_sorted[df_sorted[\"Rainfall\"]].iloc[0][\"Time\"]\n",
    "\n",
    "date_time = utils.convert_string_to_time(rain_start)\n",
    "total_seconds = date_time.hour * 3600 + date_time.minute * 60 + date_time.second\n",
    "rain_start_time = timedelta(seconds=total_seconds) + q_time_delta_0_date"
   ]
  },
  {
   "cell_type": "code",
   "execution_count": 20,
   "metadata": {},
   "outputs": [],
   "source": [
    "## get track status\n",
    "track_status = session.track_status.copy()\n",
    "\n",
    "## convert to datetime\n",
    "track_status[\"Time\"] = track_status[\"Time\"] + q_time_delta_0_date\n",
    "\n",
    "## get best lap time\n",
    "q_lap_mag = fast_mag.pick_lap(utils.MAG_QUALIFYING_LAP).get_car_data()\n",
    "q_lap_ver = fast_ver.pick_lap(utils.VER_QUALIFYING_LAP).get_car_data()\n",
    "\n",
    "## convert to datetime\n",
    "q_lap_mag_start = q_lap_mag.iloc[0][\"SessionTime\"] + q_time_delta_0_date\n",
    "q_lap_ver_start = q_lap_ver.iloc[0][\"SessionTime\"] + q_time_delta_0_date\n",
    "\n",
    "## create rows \n",
    "q3_start_time_row = [q3_start_time, 10, \"Q3Start\"]\n",
    "q3_end_time_row = [q3_end_time, 10, \"Q3End\"]\n",
    "q_lap_mag_start_row = [q_lap_mag_start, 10, \"Q3LapMagStart\"]\n",
    "q_lap_ver_start_row = [q_lap_ver_start, 10, \"Q3LapVerStart\"]\n",
    "rain_start_time_row = [rain_start_time, 10, \"RainStart\"]\n",
    "\n",
    "## add rows to track status dataframe\n",
    "track_status.loc[track_status.shape[0]] = rain_start_time_row\n",
    "track_status.loc[track_status.shape[0]] = q3_start_time_row\n",
    "track_status.loc[track_status.shape[0]] = q3_end_time_row\n",
    "track_status.loc[track_status.shape[0]] = q_lap_mag_start_row\n",
    "track_status.loc[track_status.shape[0]] = q_lap_ver_start_row\n",
    "\n"
   ]
  },
  {
   "cell_type": "code",
   "execution_count": 22,
   "metadata": {},
   "outputs": [],
   "source": [
    "track_status.to_csv(\"data/track_status.csv\", index=False)"
   ]
  },
  {
   "cell_type": "code",
   "execution_count": 12,
   "metadata": {},
   "outputs": [],
   "source": [
    "## pick qualifying lap \n",
    "q_lap_mag = fast_mag.pick_lap(utils.MAG_QUALIFYING_LAP).get_car_data()\n",
    "q_lap_ver = fast_ver.pick_lap(utils.VER_QUALIFYING_LAP).get_car_data()\n",
    "\n",
    "## make session time to datetime\n",
    "q_lap_mag[\"SessionTime\"] = q_lap_mag[\"SessionTime\"] + q_time_delta_0_date\n",
    "q_lap_ver[\"SessionTime\"] = q_lap_ver[\"SessionTime\"] + q_time_delta_0_date\n",
    "\n",
    "## drop unnecessary columns\n",
    "columns_to_drop = [\"nGear\",\"Brake\",\"DRS\",\"Source\", \"RPM\"]\n",
    "q_lap_mag = q_lap_mag.drop(columns=columns_to_drop)\n",
    "q_lap_ver = q_lap_ver.drop(columns=columns_to_drop)"
   ]
  },
  {
   "cell_type": "code",
   "execution_count": 13,
   "metadata": {},
   "outputs": [
    {
     "data": {
      "text/html": [
       "<div>\n",
       "<style scoped>\n",
       "    .dataframe tbody tr th:only-of-type {\n",
       "        vertical-align: middle;\n",
       "    }\n",
       "\n",
       "    .dataframe tbody tr th {\n",
       "        vertical-align: top;\n",
       "    }\n",
       "\n",
       "    .dataframe thead th {\n",
       "        text-align: right;\n",
       "    }\n",
       "</style>\n",
       "<table border=\"1\" class=\"dataframe\">\n",
       "  <thead>\n",
       "    <tr style=\"text-align: right;\">\n",
       "      <th></th>\n",
       "      <th>Date</th>\n",
       "      <th>Speed</th>\n",
       "      <th>Throttle</th>\n",
       "      <th>Time</th>\n",
       "      <th>SessionTime</th>\n",
       "    </tr>\n",
       "  </thead>\n",
       "  <tbody>\n",
       "    <tr>\n",
       "      <th>0</th>\n",
       "      <td>2022-11-11 19:49:37.410</td>\n",
       "      <td>324</td>\n",
       "      <td>100</td>\n",
       "      <td>0 days 00:00:00.185000</td>\n",
       "      <td>2022-11-11 17:03:32.620000-03:00</td>\n",
       "    </tr>\n",
       "    <tr>\n",
       "      <th>1</th>\n",
       "      <td>2022-11-11 19:49:37.650</td>\n",
       "      <td>325</td>\n",
       "      <td>100</td>\n",
       "      <td>0 days 00:00:00.425000</td>\n",
       "      <td>2022-11-11 17:03:32.860000-03:00</td>\n",
       "    </tr>\n",
       "    <tr>\n",
       "      <th>2</th>\n",
       "      <td>2022-11-11 19:49:37.810</td>\n",
       "      <td>326</td>\n",
       "      <td>100</td>\n",
       "      <td>0 days 00:00:00.585000</td>\n",
       "      <td>2022-11-11 17:03:33.020000-03:00</td>\n",
       "    </tr>\n",
       "    <tr>\n",
       "      <th>3</th>\n",
       "      <td>2022-11-11 19:49:38.010</td>\n",
       "      <td>326</td>\n",
       "      <td>100</td>\n",
       "      <td>0 days 00:00:00.785000</td>\n",
       "      <td>2022-11-11 17:03:33.220000-03:00</td>\n",
       "    </tr>\n",
       "    <tr>\n",
       "      <th>4</th>\n",
       "      <td>2022-11-11 19:49:38.170</td>\n",
       "      <td>327</td>\n",
       "      <td>100</td>\n",
       "      <td>0 days 00:00:00.945000</td>\n",
       "      <td>2022-11-11 17:03:33.380000-03:00</td>\n",
       "    </tr>\n",
       "    <tr>\n",
       "      <th>...</th>\n",
       "      <td>...</td>\n",
       "      <td>...</td>\n",
       "      <td>...</td>\n",
       "      <td>...</td>\n",
       "      <td>...</td>\n",
       "    </tr>\n",
       "    <tr>\n",
       "      <th>259</th>\n",
       "      <td>2022-11-11 19:50:48.011</td>\n",
       "      <td>321</td>\n",
       "      <td>100</td>\n",
       "      <td>0 days 00:01:10.786000</td>\n",
       "      <td>2022-11-11 17:04:43.221000-03:00</td>\n",
       "    </tr>\n",
       "    <tr>\n",
       "      <th>260</th>\n",
       "      <td>2022-11-11 19:50:48.171</td>\n",
       "      <td>322</td>\n",
       "      <td>100</td>\n",
       "      <td>0 days 00:01:10.946000</td>\n",
       "      <td>2022-11-11 17:04:43.381000-03:00</td>\n",
       "    </tr>\n",
       "    <tr>\n",
       "      <th>261</th>\n",
       "      <td>2022-11-11 19:50:48.531</td>\n",
       "      <td>323</td>\n",
       "      <td>100</td>\n",
       "      <td>0 days 00:01:11.306000</td>\n",
       "      <td>2022-11-11 17:04:43.741000-03:00</td>\n",
       "    </tr>\n",
       "    <tr>\n",
       "      <th>262</th>\n",
       "      <td>2022-11-11 19:50:48.771</td>\n",
       "      <td>324</td>\n",
       "      <td>100</td>\n",
       "      <td>0 days 00:01:11.546000</td>\n",
       "      <td>2022-11-11 17:04:43.981000-03:00</td>\n",
       "    </tr>\n",
       "    <tr>\n",
       "      <th>263</th>\n",
       "      <td>2022-11-11 19:50:49.011</td>\n",
       "      <td>325</td>\n",
       "      <td>100</td>\n",
       "      <td>0 days 00:01:11.786000</td>\n",
       "      <td>2022-11-11 17:04:44.221000-03:00</td>\n",
       "    </tr>\n",
       "  </tbody>\n",
       "</table>\n",
       "<p>264 rows × 5 columns</p>\n",
       "</div>"
      ],
      "text/plain": [
       "                       Date  Speed  Throttle                   Time   \n",
       "0   2022-11-11 19:49:37.410    324       100 0 days 00:00:00.185000  \\\n",
       "1   2022-11-11 19:49:37.650    325       100 0 days 00:00:00.425000   \n",
       "2   2022-11-11 19:49:37.810    326       100 0 days 00:00:00.585000   \n",
       "3   2022-11-11 19:49:38.010    326       100 0 days 00:00:00.785000   \n",
       "4   2022-11-11 19:49:38.170    327       100 0 days 00:00:00.945000   \n",
       "..                      ...    ...       ...                    ...   \n",
       "259 2022-11-11 19:50:48.011    321       100 0 days 00:01:10.786000   \n",
       "260 2022-11-11 19:50:48.171    322       100 0 days 00:01:10.946000   \n",
       "261 2022-11-11 19:50:48.531    323       100 0 days 00:01:11.306000   \n",
       "262 2022-11-11 19:50:48.771    324       100 0 days 00:01:11.546000   \n",
       "263 2022-11-11 19:50:49.011    325       100 0 days 00:01:11.786000   \n",
       "\n",
       "                         SessionTime  \n",
       "0   2022-11-11 17:03:32.620000-03:00  \n",
       "1   2022-11-11 17:03:32.860000-03:00  \n",
       "2   2022-11-11 17:03:33.020000-03:00  \n",
       "3   2022-11-11 17:03:33.220000-03:00  \n",
       "4   2022-11-11 17:03:33.380000-03:00  \n",
       "..                               ...  \n",
       "259 2022-11-11 17:04:43.221000-03:00  \n",
       "260 2022-11-11 17:04:43.381000-03:00  \n",
       "261 2022-11-11 17:04:43.741000-03:00  \n",
       "262 2022-11-11 17:04:43.981000-03:00  \n",
       "263 2022-11-11 17:04:44.221000-03:00  \n",
       "\n",
       "[264 rows x 5 columns]"
      ]
     },
     "execution_count": 13,
     "metadata": {},
     "output_type": "execute_result"
    }
   ],
   "source": [
    "q_lap_ver"
   ]
  },
  {
   "cell_type": "code",
   "execution_count": 14,
   "metadata": {},
   "outputs": [],
   "source": [
    "## merge dataframes\n",
    "q_laps = pd.merge(q_lap_mag, q_lap_ver, on=\"SessionTime\", suffixes=(\"_mag\", \"_ver\"), how=\"outer\")\n",
    "q_laps.to_csv(\"data/q3_laps.csv\", index=False)"
   ]
  },
  {
   "cell_type": "code",
   "execution_count": 15,
   "metadata": {},
   "outputs": [],
   "source": [
    "min_time = df_weather[\"Time\"].min()\n",
    "min_time = utils.convert_string_to_time(min_time)\n",
    "max_time = df_weather[\"Time\"].max()\n",
    "max_time = utils.convert_string_to_time(max_time)\n",
    "td_5sec = timedelta(seconds=5)"
   ]
  },
  {
   "cell_type": "code",
   "execution_count": 16,
   "metadata": {},
   "outputs": [
    {
     "data": {
      "image/png": "[encoded data removed]",
      "text/plain": [
       "<Figure size 640x480 with 1 Axes>"
      ]
     },
     "metadata": {},
     "output_type": "display_data"
    }
   ],
   "source": [
    "## track temp over time\n",
    "fig, ax = plt.subplots()\n",
    "ax.xaxis.axis_date()\n",
    "\n",
    "red_flag = track_status[track_status[\"Message\"] == \"Red\"].iloc[0]\n",
    "red_time = utils.convert_delta_to_time(red_flag[\"Time\"])\n",
    "\n",
    "ax.vlines(x=yellow_time, ymin=25, ymax=27, color=\"gold\", linewidth=3)\n",
    "while red_time < allClearAfterRed_time:\n",
    "    red_time += td_5sec\n",
    "    ax.vlines(x=red_time, ymin=25, ymax=27, color=\"red\", linewidth=2)\n",
    "ax.vlines(x=allClearAfterRed_time, ymin=25, ymax=27, color=\"green\", linewidth=4)\n",
    "\n",
    "for idx, _  in enumerate(df_weather.index):\n",
    "\n",
    "    isRainfall = df_weather.iloc[idx][\"Rainfall\"]\n",
    "    timeString = df_weather.iloc[idx][\"Time\"]\n",
    "    trackTemp = df_weather.iloc[idx][\"TrackTemp\"]\n",
    "    timeStamp = utils.convert_string_to_time(timeString)\n",
    "    ax.plot(timeStamp, trackTemp, c=\"blue\" if isRainfall else \"black\",  marker=\"o\", markersize=5)"
   ]
  },
  {
   "cell_type": "code",
   "execution_count": 17,
   "metadata": {},
   "outputs": [],
   "source": [
    "best_lap_mag_date_time = best_lap_mag[\"Time\"].apply(utils.convert_delta_to_time)\n",
    "best_lap_ver_date_time = best_lap_ver[\"Time\"].apply(utils.convert_delta_to_time) "
   ]
  },
  {
   "cell_type": "code",
   "execution_count": 18,
   "metadata": {},
   "outputs": [
    {
     "data": {
      "text/plain": [
       "[None, None, None, None, None, None, None, None]"
      ]
     },
     "execution_count": 18,
     "metadata": {},
     "output_type": "execute_result"
    },
    {
     "data": {
      "image/png": "[encoded data removed]",
      "text/plain": [
       "<Figure size 640x480 with 1 Axes>"
      ]
     },
     "metadata": {},
     "output_type": "display_data"
    }
   ],
   "source": [
    "fig, ax = plt.subplots()\n",
    "ax.plot(best_lap_mag_date_time, best_lap_mag[\"Speed\"], c=\"red\")\n",
    "ax.plot(best_lap_ver_date_time, best_lap_ver[\"Speed\"], c=\"blue\")\n",
    "ax.set_xlabel(\"lap time m:ss\")\n",
    "ax.set_ylabel(\"Speed (km/h)\")\n",
    "ax.spines['top'].set_visible(False)\n",
    "ax.spines['right'].set_visible(False)\n",
    "ax.spines['bottom'].set_visible(False)\n",
    "ax.spines['left'].set_visible(False)\n",
    "ax.xaxis.axis_date()\n",
    "\n",
    "ax.set_title(\"Speed in qualifying\")\n",
    "plt.setp(ax.get_xticklabels()[::2], visible=False)"
   ]
  }
 ],
 "metadata": {
  "kernelspec": {
   "display_name": "dataviz",
   "language": "python",
   "name": "python3"
  },
  "language_info": {
   "codemirror_mode": {
    "name": "ipython",
    "version": 3
   },
   "file_extension": ".py",
   "mimetype": "text/x-python",
   "name": "python",
   "nbconvert_exporter": "python",
   "pygments_lexer": "ipython3",
   "version": "3.11.3"
  },
  "orig_nbformat": 4
 },
 "nbformat": 4,
 "nbformat_minor": 2
}
