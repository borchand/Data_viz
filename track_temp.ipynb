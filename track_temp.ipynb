{
 "cells": [
  {
   "cell_type": "code",
   "execution_count": null,
   "metadata": {},
   "outputs": [],
   "source": [
    "import utils\n",
    "from matplotlib import pyplot as plt\n",
    "import fastf1\n",
    "import pandas as pd\n",
    "from datetime import timedelta, datetime"
   ]
  },
  {
   "cell_type": "code",
   "execution_count": null,
   "metadata": {},
   "outputs": [],
   "source": [
    "magColor = fastf1.plotting.driver_color(\"mag\")\n",
    "verColor = fastf1.plotting.driver_color(\"ver\")"
   ]
  },
  {
   "cell_type": "code",
   "execution_count": null,
   "metadata": {},
   "outputs": [],
   "source": [
    "session = fastf1.get_session(2022, 21, 'Q')\n",
    "session.load(laps=True, telemetry=True, weather=True)\n",
    "laps = session.laps\n",
    "\n",
    "q1, q2, q3 = laps.split_qualifying_sessions()\n",
    "\n",
    "fast_mag = q3.pick_driver('MAG')\n",
    "\n",
    "fast_ver = q3.pick_driver('VER')"
   ]
  },
  {
   "cell_type": "code",
   "execution_count": null,
   "metadata": {},
   "outputs": [],
   "source": [
    "best_lap_mag, best_lap_ver = utils.get_qualifying_laps_for_mag_and_ver(q3)"
   ]
  },
  {
   "cell_type": "code",
   "execution_count": null,
   "metadata": {},
   "outputs": [],
   "source": [
    "df_weather = pd.read_csv(\"data/q3_wheater.csv\")\n",
    "track_status = session.track_status\n",
    "yellow_flag = track_status[track_status[\"Message\"] == \"Yellow\"]\n",
    "yellow_time = utils.convert_delta_to_time(yellow_flag[\"Time\"])\n",
    "\n",
    "red_flag = track_status[track_status[\"Message\"] == \"Red\"].iloc[0]\n",
    "red_time = utils.convert_delta_to_time(red_flag[\"Time\"])\n",
    "\n",
    "allClear = track_status[track_status[\"Message\"] == \"AllClear\"]\n",
    "allClear_time = utils.convert_delta_to_time(allClear[\"Time\"])\n",
    "allClearAfterRed = allClear.iloc[-1]\n",
    "allClearAfterRed_time = utils.convert_delta_to_time(allClearAfterRed[\"Time\"])\n"
   ]
  },
  {
   "cell_type": "code",
   "execution_count": null,
   "metadata": {},
   "outputs": [],
   "source": [
    "q_time_delta_0_date = session.event.Session2Date"
   ]
  },
  {
   "cell_type": "code",
   "execution_count": null,
   "metadata": {},
   "outputs": [],
   "source": []
  },
  {
   "cell_type": "code",
   "execution_count": null,
   "metadata": {},
   "outputs": [],
   "source": [
    "## Q3 start and end time\n",
    "q3_end = session.session_status.iloc[-2][\"Time\"]\n",
    "q3_end_time = q3_end + q_time_delta_0_date\n",
    "q3_start = session.session_status.iloc[7][\"Time\"]\n",
    "q3_start_time = q3_start + q_time_delta_0_date"
   ]
  },
  {
   "cell_type": "code",
   "execution_count": null,
   "metadata": {},
   "outputs": [],
   "source": [
    "## rain start time\n",
    "df_sorted = df_weather[[\"Time\", \"Rainfall\", \"TrackTemp\"]].sort_values(\"Time\") \n",
    "rain_start = df_sorted[df_sorted[\"Rainfall\"]].iloc[0][\"Time\"]\n",
    "\n",
    "date_time = utils.convert_string_to_time(rain_start)\n",
    "total_seconds = date_time.hour * 3600 + date_time.minute * 60 + date_time.second\n",
    "rain_start_time = timedelta(seconds=total_seconds) + q_time_delta_0_date"
   ]
  },
  {
   "cell_type": "code",
   "execution_count": null,
   "metadata": {},
   "outputs": [],
   "source": [
    "df_track_temp = df_weather[[\"Time\", \"TrackTemp\"]].copy()\n",
    "df_track_temp[\"Time\"] = df_track_temp[\"Time\"].map(utils.convert_string_to_time).map(lambda x: utils.convert_time_to_date(q_time_delta_0_date, x))\n",
    "df_track_temp[\"TrackTemp\"] = df_weather[\"TrackTemp\"]"
   ]
  },
  {
   "cell_type": "code",
   "execution_count": null,
   "metadata": {},
   "outputs": [],
   "source": [
    "df_track_temp.sort_values(\"Time\", inplace=True)\n",
    "track_temp_before_time = df_track_temp[\"Time\"].iloc[0]\n",
    "track_temp_before_value = df_track_temp[\"TrackTemp\"].iloc[0]\n",
    "\n",
    "track_temp_mid_time = df_track_temp[\"Time\"][30]\n",
    "track_temp_mid_value = df_track_temp[\"TrackTemp\"][30]\n",
    "\n",
    "track_temp_after_time = df_track_temp[\"Time\"][28]\n",
    "track_temp_after_value = df_track_temp[\"TrackTemp\"][28]\n"
   ]
  },
  {
   "cell_type": "code",
   "execution_count": null,
   "metadata": {},
   "outputs": [],
   "source": [
    "track_temp_after_value"
   ]
  },
  {
   "cell_type": "code",
   "execution_count": null,
   "metadata": {},
   "outputs": [],
   "source": [
    "plt.scatter(df_track_temp[\"Time\"], df_track_temp[\"TrackTemp\"], label=\"track temp\")"
   ]
  },
  {
   "cell_type": "code",
   "execution_count": null,
   "metadata": {},
   "outputs": [],
   "source": [
    "## get track status\n",
    "track_status = session.track_status.copy()\n",
    "\n",
    "## convert to datetime\n",
    "track_status[\"Time\"] = track_status[\"Time\"] + q_time_delta_0_date\n",
    "\n",
    "## get best lap time\n",
    "q_lap_mag = fast_mag.pick_lap(utils.MAG_QUALIFYING_LAP).get_car_data()\n",
    "q_lap_ver = fast_ver.pick_lap(utils.VER_QUALIFYING_LAP).get_car_data()\n",
    "\n",
    "## convert to datetime\n",
    "q_lap_mag_start = q_lap_mag.iloc[0][\"SessionTime\"] + q_time_delta_0_date\n",
    "q_lap_ver_start = q_lap_ver.iloc[0][\"SessionTime\"] + q_time_delta_0_date\n",
    "\n",
    "## create rows \n",
    "q3_start_time_row = [q3_start_time, 10, \"Q3Start\"]\n",
    "q3_end_time_row = [q3_end_time, 10, \"Q3End\"]\n",
    "q_lap_mag_start_row = [q_lap_mag_start, 10, \"Q3LapMagStart\"]\n",
    "q_lap_ver_start_row = [q_lap_ver_start, 10, \"Q3LapVerStart\"]\n",
    "rain_start_time_row = [rain_start_time, 10, \"RainStart\"]\n",
    "track_temp_before_time_row = [track_temp_before_time, track_temp_after_value, f\"Track Temp {track_temp_before_value} °C\"]\n",
    "track_temp_mid_time_row = [track_temp_mid_time, track_temp_mid_value, f\"Track Temp {track_temp_mid_value} °C\"]\n",
    "track_temp_after_time_row = [track_temp_after_time, track_temp_after_value, f\"Track Temp {track_temp_after_value} °C\"]\n",
    "\n",
    "## add rows to track status dataframe\n",
    "track_status.loc[track_status.shape[0]] = rain_start_time_row\n",
    "track_status.loc[track_status.shape[0]] = q3_start_time_row\n",
    "track_status.loc[track_status.shape[0]] = q3_end_time_row\n",
    "track_status.loc[track_status.shape[0]] = q_lap_mag_start_row\n",
    "track_status.loc[track_status.shape[0]] = q_lap_ver_start_row\n",
    "track_status.loc[track_status.shape[0]] = track_temp_before_time_row\n",
    "track_status.loc[track_status.shape[0]] = track_temp_mid_time_row\n",
    "track_status.loc[track_status.shape[0]] = track_temp_after_time_row\n",
    "\n"
   ]
  },
  {
   "cell_type": "code",
   "execution_count": null,
   "metadata": {},
   "outputs": [],
   "source": [
    "track_status"
   ]
  },
  {
   "cell_type": "code",
   "execution_count": null,
   "metadata": {},
   "outputs": [],
   "source": [
    "track_status.to_csv(\"data/track_status.csv\", index=False)"
   ]
  },
  {
   "cell_type": "code",
   "execution_count": null,
   "metadata": {},
   "outputs": [],
   "source": [
    "## pick qualifying lap \n",
    "q_lap_mag = fast_mag.pick_lap(utils.MAG_QUALIFYING_LAP).get_car_data()\n",
    "q_lap_ver = fast_ver.pick_lap(utils.VER_QUALIFYING_LAP).get_car_data()\n",
    "\n",
    "## make session time to datetime\n",
    "q_lap_mag[\"SessionTime\"] = q_lap_mag[\"SessionTime\"] + q_time_delta_0_date\n",
    "q_lap_ver[\"SessionTime\"] = q_lap_ver[\"SessionTime\"] + q_time_delta_0_date\n",
    "\n",
    "## drop unnecessary columns\n",
    "columns_to_drop = [\"nGear\",\"Brake\",\"DRS\",\"Source\", \"RPM\"]\n",
    "q_lap_mag = q_lap_mag.drop(columns=columns_to_drop)\n",
    "q_lap_ver = q_lap_ver.drop(columns=columns_to_drop)"
   ]
  },
  {
   "cell_type": "code",
   "execution_count": null,
   "metadata": {},
   "outputs": [],
   "source": [
    "## merge dataframes\n",
    "q_laps = pd.merge(q_lap_mag, q_lap_ver, on=\"SessionTime\", suffixes=(\"_mag\", \"_ver\"), how=\"outer\")\n",
    "q_laps.to_csv(\"data/q3_laps.csv\", index=False)"
   ]
  },
  {
   "cell_type": "code",
   "execution_count": null,
   "metadata": {},
   "outputs": [],
   "source": [
    "min_time = df_weather[\"Time\"].min()\n",
    "min_time = utils.convert_string_to_time(min_time)\n",
    "max_time = df_weather[\"Time\"].max()\n",
    "max_time = utils.convert_string_to_time(max_time)\n",
    "td_5sec = timedelta(seconds=5)"
   ]
  },
  {
   "cell_type": "code",
   "execution_count": null,
   "metadata": {},
   "outputs": [],
   "source": [
    "## track temp over time\n",
    "fig, ax = plt.subplots()\n",
    "ax.xaxis.axis_date()\n",
    "\n",
    "red_flag = track_status[track_status[\"Message\"] == \"Red\"].iloc[0]\n",
    "red_time = utils.convert_delta_to_time(red_flag[\"Time\"])\n",
    "\n",
    "ax.vlines(x=yellow_time, ymin=25, ymax=27, color=\"gold\", linewidth=3)\n",
    "while red_time < allClearAfterRed_time:\n",
    "    red_time += td_5sec\n",
    "    ax.vlines(x=red_time, ymin=25, ymax=27, color=\"red\", linewidth=2)\n",
    "ax.vlines(x=allClearAfterRed_time, ymin=25, ymax=27, color=\"green\", linewidth=4)\n",
    "\n",
    "for idx, _  in enumerate(df_weather.index):\n",
    "\n",
    "    isRainfall = df_weather.iloc[idx][\"Rainfall\"]\n",
    "    timeString = df_weather.iloc[idx][\"Time\"]\n",
    "    trackTemp = df_weather.iloc[idx][\"TrackTemp\"]\n",
    "    timeStamp = utils.convert_string_to_time(timeString)\n",
    "    ax.plot(timeStamp, trackTemp, c=\"blue\" if isRainfall else \"black\",  marker=\"o\", markersize=5)"
   ]
  },
  {
   "cell_type": "code",
   "execution_count": null,
   "metadata": {},
   "outputs": [],
   "source": [
    "best_lap_mag_date_time = best_lap_mag[\"Time\"].apply(utils.convert_delta_to_time)\n",
    "best_lap_ver_date_time = best_lap_ver[\"Time\"].apply(utils.convert_delta_to_time) "
   ]
  },
  {
   "cell_type": "code",
   "execution_count": null,
   "metadata": {},
   "outputs": [],
   "source": [
    "fig, ax = plt.subplots()\n",
    "ax.plot(best_lap_mag_date_time, best_lap_mag[\"Speed\"], c=\"red\")\n",
    "ax.plot(best_lap_ver_date_time, best_lap_ver[\"Speed\"], c=\"blue\")\n",
    "ax.set_xlabel(\"lap time m:ss\")\n",
    "ax.set_ylabel(\"Speed (km/h)\")\n",
    "ax.spines['top'].set_visible(False)\n",
    "ax.spines['right'].set_visible(False)\n",
    "ax.spines['bottom'].set_visible(False)\n",
    "ax.spines['left'].set_visible(False)\n",
    "ax.xaxis.axis_date()\n",
    "\n",
    "ax.set_title(\"Speed in qualifying\")\n",
    "plt.setp(ax.get_xticklabels()[::2], visible=False)"
   ]
  }
 ],
 "metadata": {
  "kernelspec": {
   "display_name": "dataviz",
   "language": "python",
   "name": "python3"
  },
  "language_info": {
   "codemirror_mode": {
    "name": "ipython",
    "version": 3
   },
   "file_extension": ".py",
   "mimetype": "text/x-python",
   "name": "python",
   "nbconvert_exporter": "python",
   "pygments_lexer": "ipython3",
   "version": "3.11.3"
  },
  "orig_nbformat": 4
 },
 "nbformat": 4,
 "nbformat_minor": 2
}
